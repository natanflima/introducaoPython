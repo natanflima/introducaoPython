{
  "nbformat": 4,
  "nbformat_minor": 0,
  "metadata": {
    "colab": {
      "provenance": [],
      "authorship_tag": "ABX9TyO/+CDp9Us76ocIYOJexULj",
      "include_colab_link": true
    },
    "kernelspec": {
      "name": "python3",
      "display_name": "Python 3"
    },
    "language_info": {
      "name": "python"
    }
  },
  "cells": [
    {
      "cell_type": "markdown",
      "metadata": {
        "id": "view-in-github",
        "colab_type": "text"
      },
      "source": [
        "<a href=\"https://colab.research.google.com/github/natanflima/introducaoPython/blob/main/Python_Aula02.ipynb\" target=\"_parent\"><img src=\"https://colab.research.google.com/assets/colab-badge.svg\" alt=\"Open In Colab\"/></a>"
      ]
    },
    {
      "cell_type": "markdown",
      "source": [
        "**SEGUNDA AULA DE PYTHON**"
      ],
      "metadata": {
        "id": "zMRPquFQV-86"
      }
    },
    {
      "cell_type": "markdown",
      "source": [
        "## **1 - Operadores Lógicos**\n",
        "Diferente dos operadores aritméticos, os operadores lógicos retornam True 😀 ou False 😠 como resposta."
      ],
      "metadata": {
        "id": "dYmGv0zxWPYh"
      }
    },
    {
      "cell_type": "markdown",
      "source": [
        " **Operadores Relacionais**\n",
        "\n",
        "\n",
        "\n",
        "São aqueles que fazem a comparação entre dois ou mais valores."
      ],
      "metadata": {
        "id": "S9xi5WBQX6yj"
      }
    },
    {
      "cell_type": "markdown",
      "source": [
        "1. Operador de igualdade (==)"
      ],
      "metadata": {
        "id": "v72tjeG-YBXH"
      }
    },
    {
      "cell_type": "code",
      "source": [
        "# Colocar 7 == 7, verificar a resposta na execussão do programa;\n",
        "print(7 == 7)\n",
        "# Colocar 7 == 5, verificar a resposta na execussão do programa;\n",
        "print(7 == 5)"
      ],
      "metadata": {
        "colab": {
          "base_uri": "https://localhost:8080/"
        },
        "id": "oYqAExdCYXFX",
        "outputId": "3c58092a-e8cf-4744-c1ba-a8382e657906"
      },
      "execution_count": null,
      "outputs": [
        {
          "output_type": "stream",
          "name": "stdout",
          "text": [
            "True\n",
            "False\n"
          ]
        }
      ]
    },
    {
      "cell_type": "markdown",
      "source": [
        "2. Operadores menor que (<) e maior que (>)"
      ],
      "metadata": {
        "id": "QStBMETKYc-l"
      }
    },
    {
      "cell_type": "code",
      "source": [
        "# Colocar 7 < 7, verificar a resposta na execussão do programa;\n",
        "print (7 < 7)\n",
        "# Colocar 7 < 10, verificar a resposta na execussão do programa;\n",
        "print (7 < 10)\n",
        "# Colocar 7 > 7, verificar a resposta na execussão do programa;\n",
        "print(7 > 7)\n",
        "# Colocar 7 > 5, verificar a resposta na execussão do programa;\n",
        "print(7 > 5)"
      ],
      "metadata": {
        "colab": {
          "base_uri": "https://localhost:8080/"
        },
        "id": "1ZzdSF0fYagu",
        "outputId": "3e632b52-878c-4213-cde5-438d78811b27"
      },
      "execution_count": null,
      "outputs": [
        {
          "output_type": "stream",
          "name": "stdout",
          "text": [
            "False\n",
            "True\n",
            "False\n",
            "True\n"
          ]
        }
      ]
    },
    {
      "cell_type": "markdown",
      "source": [
        "3. Operadores menor ou igual que (<) e maior ou igual que (>)"
      ],
      "metadata": {
        "id": "hIS86-t2YiCs"
      }
    },
    {
      "cell_type": "code",
      "source": [
        "# Colocar 7 <= 7, verificar a resposta na execussão do programa;\n",
        "print(7 <= 7) \n",
        "# Colocar 7 <= 10, verificar a resposta na execussão do programa;\n",
        "print(7 <= 10)\n",
        "# Colocar 7 >= 7, verificar a resposta na execussão do programa;\n",
        "print (7 >= 7)\n",
        "# Colocar 7 >= 5, verificar a resposta na execussão do programa;\n",
        "print(7 >= 5)"
      ],
      "metadata": {
        "colab": {
          "base_uri": "https://localhost:8080/"
        },
        "id": "PWszNv6hYiJJ",
        "outputId": "638fc7ae-eda8-4435-c2ad-6d79239fa298"
      },
      "execution_count": null,
      "outputs": [
        {
          "output_type": "stream",
          "name": "stdout",
          "text": [
            "True\n",
            "True\n",
            "True\n",
            "True\n"
          ]
        }
      ]
    },
    {
      "cell_type": "markdown",
      "source": [
        "4. Operador de não igual (!=)\n",
        "\n",
        "!= Operador de negação"
      ],
      "metadata": {
        "id": "1g0ycbzhYmR_"
      }
    },
    {
      "cell_type": "code",
      "source": [
        "# Colocar 7 != 7, verificar a resposta na execussão do programa;\n",
        "print(7 != 7)\n",
        "# Colocar 7 != 5, verificar a resposta na execussão do programa;\n",
        "print (7 != 5)"
      ],
      "metadata": {
        "colab": {
          "base_uri": "https://localhost:8080/"
        },
        "id": "2eK19T4nYmWu",
        "outputId": "d909f15c-2aac-4ce3-f36e-7834e6b70b4d"
      },
      "execution_count": null,
      "outputs": [
        {
          "output_type": "stream",
          "name": "stdout",
          "text": [
            "False\n",
            "True\n"
          ]
        }
      ]
    },
    {
      "cell_type": "markdown",
      "source": [
        "# **2 - Tabelas Verdade**\n",
        "\n",
        "São tabelas que mostram algumas situações de entrada e suas saídas"
      ],
      "metadata": {
        "id": "C5qK3u6lYpyP"
      }
    },
    {
      "cell_type": "markdown",
      "source": [
        "**1. Tabela do E (AND)**\n",
        "\n",
        "O operador AND deve ser usado quando temos 2 ou mais condições que devem ser verdadeiras para o programa executar a ação desejada"
      ],
      "metadata": {
        "id": "VSMghO3-Yxju"
      }
    },
    {
      "cell_type": "code",
      "source": [
        "print(\"|   A\\t|   B\\t| SAÍDA |\")\n",
        "print(\"|\",False,\"|\",False,\"|\",False and False,\"|\")\n",
        "print(\"|\",True,\"\\t|\",False,\"|\",True and False,\"|\")\n",
        "print(\"|\",False,\"|\",True,\"\\t|\",False and True,\"|\")\n",
        "print(\"|\",True,\"\\t|\",True,\"\\t|\",True and True,\"\\t|\")"
      ],
      "metadata": {
        "colab": {
          "base_uri": "https://localhost:8080/"
        },
        "id": "ytpwk1YPY_e-",
        "outputId": "590121f1-3a57-4195-f065-47a229f11862"
      },
      "execution_count": null,
      "outputs": [
        {
          "output_type": "stream",
          "name": "stdout",
          "text": [
            "|   A\t|   B\t| SAÍDA |\n",
            "| False | False | False |\n",
            "| True \t| False | False |\n",
            "| False | True \t| False |\n",
            "| True \t| True \t| True \t|\n"
          ]
        }
      ]
    },
    {
      "cell_type": "code",
      "source": [
        "# EXEMPLO: Verificar se uma idade é maior do que a 17 E menor do que 71.\n",
        "\n",
        "idade = int(input(\"Idade: \"))\n",
        "print(idade > 17 and idade < 71)\n",
        "     "
      ],
      "metadata": {
        "colab": {
          "base_uri": "https://localhost:8080/"
        },
        "id": "2YANF-kxZAEg",
        "outputId": "085ed919-392f-42a5-cfc6-904e13dfa5a4"
      },
      "execution_count": null,
      "outputs": [
        {
          "output_type": "stream",
          "name": "stdout",
          "text": [
            "Idade: 41\n",
            "True\n"
          ]
        }
      ]
    },
    {
      "cell_type": "markdown",
      "source": [
        "**2. Tabela do OU (OR)**\n",
        "O operador OR deve ser usado quando, pelo menos, 1 das condições for verdadeira para realizar uma ação desejada"
      ],
      "metadata": {
        "id": "EFNYkFn6ZBzc"
      }
    },
    {
      "cell_type": "code",
      "source": [
        "print(\"|   A\\t|   B\\t| SAÍDA |\")\n",
        "print(\"|\",False,\"|\",False,\"|\",False or False,\"|\")\n",
        "print(\"|\",True,\"\\t|\",False,\"|\",True or False,\" |\")\n",
        "print(\"|\",False,\"|\",True,\"\\t|\",False or True,\" |\")\n",
        "print(\"|\",True,\"\\t|\",True,\"\\t|\",True or True,\" |\")\n",
        "     "
      ],
      "metadata": {
        "colab": {
          "base_uri": "https://localhost:8080/"
        },
        "id": "scVsxwOuZJoo",
        "outputId": "66ebfc8e-deaa-46f7-821e-deadae450e7b"
      },
      "execution_count": null,
      "outputs": [
        {
          "output_type": "stream",
          "name": "stdout",
          "text": [
            "|   A\t|   B\t| SAÍDA |\n",
            "| False | False | False |\n",
            "| True \t| False | True  |\n",
            "| False | True \t| True  |\n",
            "| True \t| True \t| True  |\n"
          ]
        }
      ]
    },
    {
      "cell_type": "code",
      "source": [
        "# EXEMPLO: Verificar se uma idade é menor do que a 18 OU maior do que 70.\n",
        "\n",
        "idade = int(input(\"Idade: \"))\n",
        "print(idade < 18 or idade > 70)"
      ],
      "metadata": {
        "colab": {
          "base_uri": "https://localhost:8080/"
        },
        "id": "uvMrBRZJZNQO",
        "outputId": "808a8bba-906c-4ec7-fefd-8b770f5241e8"
      },
      "execution_count": null,
      "outputs": [
        {
          "output_type": "stream",
          "name": "stdout",
          "text": [
            "Idade: 41\n",
            "False\n"
          ]
        }
      ]
    },
    {
      "cell_type": "markdown",
      "source": [
        "**3. Tabela do XOR (^)**\n",
        "\n",
        "As condições devem ser diferentes para dar verdadeiro(true)."
      ],
      "metadata": {
        "id": "2DovXOtoZO64"
      }
    },
    {
      "cell_type": "code",
      "source": [
        "print(\"|   A\\t|   B\\t| SAÍDA |\")\n",
        "print(\"|\",False,\"|\",False,\"|\",False ^ False,\"|\")\n",
        "print(\"|\",True,\"\\t|\",False,\"|\",True ^ False,\"\\t|\")\n",
        "print(\"|\",False,\"|\",True,\"\\t|\",False ^ True,\"\\t|\")\n",
        "print(\"|\",True,\"\\t|\",True,\"\\t|\",True ^ True,\"|\")\n",
        "\n",
        "     \n"
      ],
      "metadata": {
        "colab": {
          "base_uri": "https://localhost:8080/"
        },
        "id": "5U6MeFSJZR3e",
        "outputId": "236cadb0-340a-47de-a6fd-dbddd8e4b8ac"
      },
      "execution_count": null,
      "outputs": [
        {
          "output_type": "stream",
          "name": "stdout",
          "text": [
            "|   A\t|   B\t| SAÍDA |\n",
            "| False | False | False |\n",
            "| True \t| False | True \t|\n",
            "| False | True \t| True \t|\n",
            "| True \t| True \t| False |\n"
          ]
        }
      ]
    },
    {
      "cell_type": "code",
      "source": [
        "# Reprodução de porcos\n",
        "# Coloque 0 para leitão e 1 para leitoa em uma lista\n"
      ],
      "metadata": {
        "id": "Iz-DqPF1ZTR_"
      },
      "execution_count": null,
      "outputs": []
    },
    {
      "cell_type": "markdown",
      "source": [
        "**4. Tabela de Negação (not)**"
      ],
      "metadata": {
        "id": "zHPH9_9mZU0_"
      }
    },
    {
      "cell_type": "code",
      "source": [
        "print(\"|   A\\t| Não A |\")\n",
        "print(\"|\",False,\"|\",not False,\"\\t|\")\n",
        "print(\"|\",True,\"\\t|\",not True,\"|\")\n",
        "     "
      ],
      "metadata": {
        "colab": {
          "base_uri": "https://localhost:8080/"
        },
        "id": "36ZUKlcpZXha",
        "outputId": "18f9299f-6ea3-4a3b-bbb2-99413356a8b8"
      },
      "execution_count": null,
      "outputs": [
        {
          "output_type": "stream",
          "name": "stdout",
          "text": [
            "|   A\t| Não A |\n",
            "| False | True \t|\n",
            "| True \t| False |\n"
          ]
        }
      ]
    },
    {
      "cell_type": "markdown",
      "source": [
        "# 3 - Condicionais"
      ],
      "metadata": {
        "id": "C6De3cfvZZOG"
      }
    },
    {
      "cell_type": "markdown",
      "source": [
        "**Condição SE (IF)**\n",
        "Usamos este tipo de condicional quando necessitamos que o programa teste algumas condições. Caso a condição seja verdadeira, o programa executará uma ação destinada àquela condição.\n",
        "\n",
        "if condição 1:\n",
        "\n",
        "    bloco de códigos do if\n",
        "\n",
        "Faz-se necessário que o código tenha esta estrutura, senão o Python apresentará erro de identação."
      ],
      "metadata": {
        "id": "v2jfvB3MZpZd"
      }
    },
    {
      "cell_type": "code",
      "source": [
        "n = 3 #Atribuição do valor de n\n",
        "\n",
        "if n == 2:\n",
        "    print(\"{} igual a 2\".format(n))"
      ],
      "metadata": {
        "id": "wZbvWqGWZj9e"
      },
      "execution_count": null,
      "outputs": []
    },
    {
      "cell_type": "markdown",
      "source": [
        "**Condição SENÃO (ELSE)**\n",
        "\n",
        "Para usar o else, temos que ter usado o if antes.\n",
        "\n",
        "\n",
        "if condição 1:\n",
        "    bloco de códigos do if\n",
        "\n",
        "\n",
        "else:\n",
        "    bloco de código do else.\n",
        "    Aqui finaliza a condicional"
      ],
      "metadata": {
        "id": "K6F-ti8RZr33"
      }
    },
    {
      "cell_type": "code",
      "source": [
        "n = 3\n",
        "\n",
        "if n == 2:\n",
        "    print(\"{} igual a 2\".format(n))\n",
        "else:\n",
        "    print(\"{} diferente de 2\".format(n))"
      ],
      "metadata": {
        "colab": {
          "base_uri": "https://localhost:8080/"
        },
        "id": "JgSdSOTsZu8A",
        "outputId": "0d69af9b-a4d2-4302-fbf9-5c026d03c614"
      },
      "execution_count": null,
      "outputs": [
        {
          "output_type": "stream",
          "name": "stdout",
          "text": [
            "3 diferente de 2\n"
          ]
        }
      ]
    },
    {
      "cell_type": "markdown",
      "source": [
        "**Condição SENÃO SE (ELIF)**\n",
        "\n",
        "O elif deve ser utilizado quando temos mais do que uma condição."
      ],
      "metadata": {
        "id": "FcbMNvprZwhj"
      }
    },
    {
      "cell_type": "code",
      "source": [
        "# Exemplo\n",
        "\n",
        "if condição 1:\n",
        "    bloco de códigos do if\n",
        "\n",
        "elif condição 2:\n",
        "    bloco de código do elif\n",
        "\n",
        "else:\n",
        "    bloco de código do else.\n",
        "    Finaliza a condicional"
      ],
      "metadata": {
        "id": "yzaG8_DpshGw"
      },
      "execution_count": null,
      "outputs": []
    },
    {
      "cell_type": "code",
      "source": [
        "n = 4\n",
        "if n == 2:\n",
        "    print(\"{} é igual a 2\".format(n))\n",
        "\n",
        "elif n == 3:\n",
        "    print(\"{} é igual a 3\".format(n))\n",
        "\n",
        "else:\n",
        "    print(\"{} é diferente de 2 e de 3\".format(n))"
      ],
      "metadata": {
        "colab": {
          "base_uri": "https://localhost:8080/"
        },
        "id": "3fRd-8MDZ-iO",
        "outputId": "f2891179-d4c1-4177-96a9-f13ccc749330"
      },
      "execution_count": null,
      "outputs": [
        {
          "output_type": "stream",
          "name": "stdout",
          "text": [
            "4 é diferente de 2 e de 3\n"
          ]
        }
      ]
    },
    {
      "cell_type": "markdown",
      "source": [
        "# 4 - Exercícios"
      ],
      "metadata": {
        "id": "tuEFtE7gZ--k"
      }
    },
    {
      "cell_type": "markdown",
      "source": [
        "**1 - Qual o maior.**\n",
        "\n",
        "Escreva um programa que recebe 2 valores e devolve o maior entre eles."
      ],
      "metadata": {
        "id": "jDw7Dg7faBrI"
      }
    },
    {
      "cell_type": "code",
      "source": [
        "\n",
        "valor1 = float(input(\"Digite um valor: \"))\n",
        "\n",
        "valor2 = float(input(\"Digite outro valor: \"))\n",
        "\n",
        "if valor1 > valor2:\n",
        "    print(\"{} é o maior número\" .format(valor1))\n",
        "elif valor1 < valor2:\n",
        "    print(\"{} é o maior número\" .format(valor2))\n",
        "else:\n",
        "    print(\"{} e {} são números iguais.\" .format(valor1, valor2))"
      ],
      "metadata": {
        "colab": {
          "base_uri": "https://localhost:8080/"
        },
        "id": "CPP-J-fNaGfH",
        "outputId": "d97024c1-5625-495f-8a6a-9713b8681a49"
      },
      "execution_count": null,
      "outputs": [
        {
          "output_type": "stream",
          "name": "stdout",
          "text": [
            "Digite um valor: 3\n",
            "Digite outro valor: 2\n",
            "3.0 é o maior número\n"
          ]
        }
      ]
    },
    {
      "cell_type": "markdown",
      "source": [
        "**2 - Calculadora de preço da laranja.**\n",
        "\n",
        "Cada laranja custa 0.3, mas quando comprada acima de meia dúzia, seu valor cai para 0.25 cada. \n",
        "\n",
        "Imprimir na tela: \"x laranjas por y reais totaliza: R$z\""
      ],
      "metadata": {
        "id": "IEHwOt0naH79"
      }
    },
    {
      "cell_type": "code",
      "source": [
        "\n",
        "laranjas = int(input(\"Quantas laranjas deseja comprar?\\n \"))\n",
        "\n",
        "if laranjas < 12:\n",
        "    valor = laranjas * 0.3\n",
        "\n",
        "else:\n",
        "    valor = laranjas * 0.25\n",
        "\n",
        "print(\"Você deve pagar R$ {:.2f}\".format(valor))\n"
      ],
      "metadata": {
        "id": "n0pSnrqjaagV",
        "colab": {
          "base_uri": "https://localhost:8080/"
        },
        "outputId": "0ca1280f-fab2-4c0c-e4c5-01ed9af27d63"
      },
      "execution_count": 2,
      "outputs": [
        {
          "output_type": "stream",
          "name": "stdout",
          "text": [
            "Quantas laranjas deseja comprar?\n",
            " 5\n",
            "Você deve pagar R$ 1.50\n"
          ]
        }
      ]
    },
    {
      "cell_type": "markdown",
      "source": [
        "**3 - Caluladora de Peso Ideal**\n",
        "\n",
        "Fazer uma calculadora em que o usuário digita Altura em metros, Peso em quilos e se é do gênero feminino ou masculino. O programa devolve ao usuário a informação qual seu peso ideal e quanto precisa emagrecer para chegar lá. Ao final, o programa deve trazer uma frase motivadora para aqueles que estão acima do peso, frase parabenizando os que estão no peso ideal e uma outra frase de alerta aos que estão abaixo do peso. *Fórmulas*:\n",
        "\n",
        "    >Masculino: (72.7 * Altura) - 50\n",
        "    >Feminino: (62.1 * Altura) - 44.7"
      ],
      "metadata": {
        "id": "LGXmudhNab-b"
      }
    },
    {
      "cell_type": "code",
      "source": [
        "\n",
        "altura = float(input(\"Digite sua altura em metros: \"))\n",
        "\n",
        "peso = float(input(\"Digite seu peso em quilos: \"))\n",
        "\n",
        "genero = input(\"Digite m - Masculino ou f - Feminino: \").casefold()\n",
        "\n",
        "if genero == \"m\":\n",
        "    peso_ideal = (72.7 * altura) - 50\n",
        "elif genero == \"f\":\n",
        "    peso_ideal = (62.1 * altura) - 44.7\n",
        "else:\n",
        "    print(\"Digite m para gênero masculino ou f para feminino.\")\n",
        "\n",
        "diferenca = peso - peso_ideal\n",
        "\n",
        "if diferenca > 0:\n",
        "    print(\"Você está acima do peso, mas nunca é tarde para começar!\")\n",
        "elif diferenca < 0:\n",
        "    print(\"Cuidado, você está abaixo do peso. Seu sucesso depende apenas do seu esforço!\")\n",
        "else:\n",
        "    print(\"Parabéns, você está no seu peso ideal. Se mantenha focado!\")\n"
      ],
      "metadata": {
        "colab": {
          "base_uri": "https://localhost:8080/"
        },
        "id": "_BJvbxDHaamd",
        "outputId": "be766707-7d23-412d-e3a5-24ad6ea9afe3"
      },
      "execution_count": null,
      "outputs": [
        {
          "output_type": "stream",
          "name": "stdout",
          "text": [
            "Digite sua altura em metros: 164\n",
            "Digite seu peso em quilos: 90\n",
            "Digite m - Masculino ou f - Feminino: m\n",
            "Cuidado, você está abaixo do peso. Seu sucesso depende apenas do seu esforço!\n"
          ]
        }
      ]
    },
    {
      "cell_type": "markdown",
      "source": [
        "**4 - É triangulo ou Não é triângulo?**\n",
        "\n",
        "Para determinar se 3 segmentos de reta formam um triângulo, podemos fazer a verificação se a soma dos dois menores segmentos é maior do que o segmento maior.\n",
        "\n",
        "Segmentos: 2, 3 e 4\n",
        "\n",
        "Soma dos dois menores: 2 + 3 = 5\n",
        "\n",
        "Verificação: 5 > 4\n",
        "\n",
        "Conclusão:Estes segmentos formam um triângulo"
      ],
      "metadata": {
        "id": "fbejlzLxaynh"
      }
    },
    {
      "cell_type": "code",
      "source": [
        "soma = 0\n",
        "\n",
        "maior = 0\n",
        "\n",
        "seg_a = float(input(\"Primeira medida: \"))\n",
        "\n",
        "seg_b = float(input(\"Segunda medida: \"))\n",
        "\n",
        "seg_c = float(input(\"Terceira medida: \"))\n",
        "\n",
        "if seg_a > seg_b and seg_a > seg_c:\n",
        "    maior = seg_a\n",
        "    soma = seg_b + seg_c\n",
        "\n",
        "if seg_b > seg_a and seg_b > seg_c:\n",
        "    maior = seg_b\n",
        "    soma = seg_a + seg_c\n",
        "\n",
        "if seg_c > seg_a and seg_c > seg_b:\n",
        "    maior = seg_c\n",
        "    soma = seg_b + seg_a\n",
        "\n",
        "else:\n",
        "    print(\"Você precisa digitar corretamente\")\n",
        "\n",
        "if soma > maior:\n",
        "    print(\"Forma triângulo\")\n",
        "else:\n",
        "    print(\"Não forma triângulo\")"
      ],
      "metadata": {
        "id": "jOdC96hka7Hg",
        "colab": {
          "base_uri": "https://localhost:8080/"
        },
        "outputId": "ddf5b45b-72c9-42cd-f795-de519130f97e"
      },
      "execution_count": 1,
      "outputs": [
        {
          "output_type": "stream",
          "name": "stdout",
          "text": [
            "Primeira medida: 2\n",
            "Segunda medida: 3\n",
            "Terceira medida: 5\n",
            "Não forma triângulo\n"
          ]
        }
      ]
    },
    {
      "cell_type": "markdown",
      "source": [
        "# **Desafio**"
      ],
      "metadata": {
        "id": "FZ8LXvrha6ue"
      }
    },
    {
      "cell_type": "markdown",
      "source": [
        "Um posto de gasolina está vendendo combustíveis com a seguinte tabela de descontos: \n"
      ],
      "metadata": {
        "id": "uzzFz6mzeSom"
      }
    },
    {
      "cell_type": "markdown",
      "source": [
        "\n",
        "**Gasolina:**\n",
        "\n",
        "Até 20 litros: desconto de 4% por litro\n",
        "\n",
        "Acima de 20 litros: desconto de 6% por litro"
      ],
      "metadata": {
        "id": "hR0lr0Q3iIvj"
      }
    },
    {
      "cell_type": "markdown",
      "source": [
        "**Álcool:**\n",
        "\n",
        "Até 20 litros: desconto de 3% por litro\n",
        "Acima de 20 litros: desconto de 5% por litro"
      ],
      "metadata": {
        "id": "wS7VtoLNh_Lb"
      }
    },
    {
      "cell_type": "markdown",
      "source": [
        "Escreva um programa que leia o tipo de combustível (A - Álcool e G - Gasolina), calcule e imprima o valor a ser pago pelo cliente. FAZER O PROGRAMA CRIAR UM NÚMERO ALEATÓRIO PARA O ABASTECIMENTO. ESTE NÚMERO DEVERÁ SER ENTRE 1 E 52."
      ],
      "metadata": {
        "id": "_xpyCf0NiMCj"
      }
    },
    {
      "cell_type": "code",
      "source": [
        "from random import randint\n",
        "\n",
        "qtd_litros = randint(1,52)\n",
        "gas_value = 5.50\n",
        "alc_value = 4.80\n",
        "\n",
        "tipo = input('Informe \"A\" - álcool ou \"G\" - gasolina:/n ').casefold()\n",
        "print('-------------------------------')\n",
        "\n",
        "if tipo == \"a\":\n",
        "    print(\"Você abasteceu seu automóvel com 30 litros de álcool\")\n",
        "    if qtd_litros <= 20:\n",
        "        total = qtd_litros * alc_value * (1 - 0.03)\n",
        "        print(\"Total a pagar de R$ {:.2f}\".format(total))\n",
        "    else:\n",
        "        total = qtd_litros * alc_value * (1 - 0.05)\n",
        "        print(\"Total a pagar de R$ {:.2f}\".format(total))\n",
        "elif tipo == \"g\":\n",
        "    print(\"Você abasteceu seu automóvel com 30 litros de gasolina\")\n",
        "    if qtd_litros <= 20:\n",
        "        total = qtd_litros * gas_value * (1 - 0.04)\n",
        "        print(\"Total a pagar de R$ {:.2f}\".format(total))\n",
        "    else:\n",
        "        total = qtd_litros * gas_value * (1 - 0.06)\n",
        "        print(\"Total a pagar de R$ {:.2f}\".format(total))\n",
        "else:\n",
        "    print(\"Opção inválida\")"
      ],
      "metadata": {
        "id": "IViJSTRgeVYt",
        "colab": {
          "base_uri": "https://localhost:8080/"
        },
        "outputId": "e66ab19e-ab03-41f1-ed52-e7bb5bdbc57f"
      },
      "execution_count": 11,
      "outputs": [
        {
          "output_type": "stream",
          "name": "stdout",
          "text": [
            "Informe \"A\" - álcool ou \"G\" - gasolina:/n g\n",
            "-------------------------------\n",
            "Você abasteceu seu automóvel com 30 litros de gasolina\n",
            "Total a pagar de R$ 170.61\n"
          ]
        }
      ]
    }
  ]
}