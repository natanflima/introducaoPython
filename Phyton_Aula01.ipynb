{
  "nbformat": 4,
  "nbformat_minor": 0,
  "metadata": {
    "colab": {
      "provenance": []
    },
    "kernelspec": {
      "name": "python3",
      "display_name": "Python 3"
    },
    "language_info": {
      "name": "python"
    }
  },
  "cells": [
    {
      "cell_type": "markdown",
      "source": [
        "**PRIMEIRA AULA DE PHYTON**"
      ],
      "metadata": {
        "id": "jGTeiPRyDfDh"
      }
    },
    {
      "cell_type": "markdown",
      "source": [
        "## **1 - Comando PRINT()**\n",
        "O print é um comando de saída, ou seja, a partir dele que conseguimos imprimir informações na tela.\n",
        "\n",
        "Este comando é uma método de impressão, portanto, **sempre** que o usarmos, temos que colocar os ()."
      ],
      "metadata": {
        "id": "860uyvBA3IUI"
      }
    },
    {
      "cell_type": "markdown",
      "source": [
        "**1.1 -** Fazer um programa que escreve na tela \"Olá Mundo!\""
      ],
      "metadata": {
        "id": "CI7roq6R3S-W"
      }
    },
    {
      "cell_type": "code",
      "source": [
        "print(\"Olá Mundo! \")\n",
        "print('Olá Mundo! ')"
      ],
      "metadata": {
        "id": "ZRD7jU2h3IAo"
      },
      "execution_count": null,
      "outputs": []
    },
    {
      "cell_type": "markdown",
      "source": [
        "**1.2 - Concatenando informações**\n",
        " \n",
        " Obs.: O jogo da velha (#) é usado para comentários"
      ],
      "metadata": {
        "id": "M3qxup3i3Xt-"
      }
    },
    {
      "cell_type": "code",
      "source": [
        "# Texto e números\n",
        "print(\"Idade: \", 25)\n",
        "# Texto com booleano\n",
        "print(\"Cerveja:\", True)\n",
        "# Textos longos, com mais de uma linha\n",
        "print('''Cardápio: \n",
        "1 - Hamburguer\n",
        "2 - Pizza\n",
        "3 - Hot dog ''')\n",
        "# Imprimir a mensagem \n",
        "print(\"O Corinthians já ganhou muitos títulos\")\n",
        "# Mas o muitos deve ser repetido 25 vezes.\n",
        "print(\"O Corinthians já ganhou\",25*\" muitos\", \"títulos\")"
      ],
      "metadata": {
        "id": "IZqZz68C3Yp-"
      },
      "execution_count": null,
      "outputs": []
    },
    {
      "cell_type": "markdown",
      "source": [
        "## **2 - Tipos de variáveis:**\n",
        "O Python é uma linguagem de programação dinamicamente tipada, ou seja, não precisamos declarar o tipo da variável na sua criação e podemos alterar o tipo de dado a qualquer momento."
      ],
      "metadata": {
        "id": "AavbTWlBCwLx"
      }
    },
    {
      "cell_type": "code",
      "source": [
        "a = 10\n",
        "a = \"Texto\"\n",
        "a = True\n",
        "a = ['Batatinha', 'Frita', 1, 2, 3, True]\n",
        "a = {'usuario': \"Joao\",\n",
        "     'idade': 40,\n",
        "     'filhos': True,\n",
        "     }"
      ],
      "metadata": {
        "id": "0Sy-4iJWC0xn"
      },
      "execution_count": null,
      "outputs": []
    },
    {
      "cell_type": "markdown",
      "source": [
        "O sinal de = significa recebe, portanto, a linha *a = 10* deve ser lida como *a recebe 10*"
      ],
      "metadata": {
        "id": "WV2BLYBVD3R-"
      }
    },
    {
      "cell_type": "markdown",
      "source": [
        "**Número Inteiro**\n",
        "\n",
        "Importante: O Python não utiliza separador entre as partes inteiras, ou seja, não vamos escrever 1.000 ou 1,000. Podemos usar o _ para fazer a separação entre as casas de milhar."
      ],
      "metadata": {
        "id": "w67GdT05HjnD"
      }
    },
    {
      "cell_type": "code",
      "source": [
        "numero_inteiro = 1000000\n",
        "numero_inteiro = 1_000_000"
      ],
      "metadata": {
        "id": "mDhzlJK6IImz"
      },
      "execution_count": null,
      "outputs": []
    },
    {
      "cell_type": "markdown",
      "source": [
        "Nos dois casos apresentados acima, temos o número 1 milhão."
      ],
      "metadata": {
        "id": "kuibpw6xIJVr"
      }
    },
    {
      "cell_type": "code",
      "source": [
        "# Decalarar a Variável Inteira\n",
        "\n",
        "# Imprimir as variáveis na tela (usar .format)\n",
        "numero1 = 1\n",
        "numero2 = 2\n",
        "print(\"O número {} é menor que o número {}\".format(numero1, numero2))"
      ],
      "metadata": {
        "id": "mhbTcH25ILfR"
      },
      "execution_count": null,
      "outputs": []
    },
    {
      "cell_type": "markdown",
      "source": [
        "**Números Reais**\n",
        "\n",
        "Importante: O Python utiliza o . como separador entre a parte inteira e a parte decimal do número.\n"
      ],
      "metadata": {
        "id": "lmdkQxq6KFU8"
      }
    },
    {
      "cell_type": "markdown",
      "source": [
        "pi = 3.14"
      ],
      "metadata": {
        "id": "n9sccyK9Kh-J"
      }
    },
    {
      "cell_type": "code",
      "source": [
        "# Declarar a Variável Real\n",
        "pi = 3.14\n",
        "# Imprimir as variáveis na tela (usar .format)\n",
        "print(pi)"
      ],
      "metadata": {
        "colab": {
          "base_uri": "https://localhost:8080/"
        },
        "id": "yttQF8IbKgUB",
        "outputId": "df80c360-64b5-4731-a2a0-e4085ce5d990"
      },
      "execution_count": null,
      "outputs": [
        {
          "output_type": "stream",
          "name": "stdout",
          "text": [
            "3.14\n"
          ]
        }
      ]
    },
    {
      "cell_type": "markdown",
      "source": [
        "**Texto e Comentário**\n",
        "\n",
        "Para escrever um texto, podemos utilizar tando aspas simples (' ') quanto aspas duplas (\" \")."
      ],
      "metadata": {
        "id": "K9bgPnxPKuZ5"
      }
    },
    {
      "cell_type": "markdown",
      "source": [
        "texto_1 = 'Batatinha'\n",
        "texto_2 = \" Frita\"\n",
        "print(texto_1 + texto_2)"
      ],
      "metadata": {
        "id": "6-GYUPDPK3tM"
      }
    },
    {
      "cell_type": "code",
      "source": [
        "# Declarar duas variáveis tipo String\n",
        "texto1 = 'O Corinthians é o melhor.'\n",
        "texto2 = ' O melhor time do mundo.'\n",
        "print(texto1 + texto2)"
      ],
      "metadata": {
        "id": "xltxYD5iKuAg"
      },
      "execution_count": null,
      "outputs": []
    },
    {
      "cell_type": "markdown",
      "source": [
        "**Lógico ou Booleano**\n",
        "\n",
        "Este tipo de dado está relacionado com Verdadeiro ou Falso. Confira o código abaixo:"
      ],
      "metadata": {
        "id": "9wkFrpoIK7Gg"
      }
    },
    {
      "cell_type": "markdown",
      "source": [
        "logico = True"
      ],
      "metadata": {
        "id": "f0K-5tVbLD0H"
      }
    },
    {
      "cell_type": "code",
      "source": [
        "\n",
        "# Declarar a Variável tipo Boolean\n",
        "\n",
        "# Imprimir as variáveis na tela (usar .format)"
      ],
      "metadata": {
        "id": "buoBrs_2LCCN"
      },
      "execution_count": null,
      "outputs": []
    },
    {
      "cell_type": "markdown",
      "source": [
        "**Lista**\n",
        "\n",
        "Variável que armazena conjunto de informações. As listas sempre devem obedecer o mesmo jeito de ser definidas."
      ],
      "metadata": {
        "id": "x8uMdg5tLGXb"
      }
    },
    {
      "cell_type": "markdown",
      "source": [
        "lista = [\"Batatinha\",\"Frita\",1 ,2, 3, True]"
      ],
      "metadata": {
        "id": "-T5gbDonLMXA"
      }
    },
    {
      "cell_type": "code",
      "source": [
        "# Declarar a Variável tipo Lista\n",
        "lista = [2, \"Mundial\", 30, \"Paulistão\", 2, \"Libertadores\"]\n",
        "# Imprimir as variáveis na tela (usar .format)\n",
        "print(lista)"
      ],
      "metadata": {
        "colab": {
          "base_uri": "https://localhost:8080/"
        },
        "id": "LMWfzHCnLObo",
        "outputId": "4bf1bace-bc80-4edc-8289-66d4e8f71964"
      },
      "execution_count": null,
      "outputs": [
        {
          "output_type": "stream",
          "name": "stdout",
          "text": [
            "[2, 'Mundial', 30, 'Paulistão', 2, 'Libertadores']\n"
          ]
        }
      ]
    },
    {
      "cell_type": "markdown",
      "source": [
        "**Dicionário**\n",
        "\n",
        "Variável que armazena conjunto de informações. Os dicionários funcionam num sistema denominado de chave: valor. Cada chave terá um valor. O valor pode ser qualquer coisa."
      ],
      "metadata": {
        "id": "s8nDM8R3LQvw"
      }
    },
    {
      "cell_type": "markdown",
      "source": [
        "dic = {\"username\": 'jamelao.free',\n",
        "        \"idade\": 40,\n",
        "        \"filho\": True\n",
        "      }\n"
      ],
      "metadata": {
        "id": "1Ms3VCrILVJM"
      }
    },
    {
      "cell_type": "code",
      "source": [
        "# Declarar a Variável tipo Dicionário\n",
        "dic = {\n",
        "    \"Nome do usuário\" : \"Natan\",\n",
        "    \"Login\": \"natanflima\",\n",
        "    \"senha\" : 123,\n",
        "    \"email\": \"natanflima@hotmail.com\"\n",
        "}\n",
        "\n",
        "# Imprimir as variáveis na tela (usar .format)\n",
        "print(dic)"
      ],
      "metadata": {
        "id": "x_ojXGyLLVQH",
        "colab": {
          "base_uri": "https://localhost:8080/"
        },
        "outputId": "f23bc047-ba86-4ba5-a33b-1fc5153213b1"
      },
      "execution_count": null,
      "outputs": [
        {
          "output_type": "stream",
          "name": "stdout",
          "text": [
            "{'Nome do usuário': 'Natan', 'Login': 'natanflima', 'senha': 123, 'email': 'natanflima@hotmail.com'}\n"
          ]
        }
      ]
    },
    {
      "cell_type": "markdown",
      "source": [
        "## **3 - Entrada de dados com INPUT()**\n",
        "\n",
        "O método de entrada de dados input() é utilizado quando queremos que o usuário digite alguma informação.\n",
        "\n",
        "Como um método, este comando também precisa ser utilizado com (). Entro dos () devemos colocar o texto que aparecerá ao usuário.\n",
        "\n",
        "*Este texto deverá instruir o usuário a digitar o que o programa espera como entrada.*\n",
        "Este método sempre recebe a informação como um texto e, às vezes, para ulitizar esta informação, precisamos converte-la para outro tipo de dado (inteiro ou float). Vamos ver o código abaixo para entender melhor:\n",
        "\n"
      ],
      "metadata": {
        "id": "sZSWGPavM0GB"
      }
    },
    {
      "cell_type": "markdown",
      "source": [
        "numero = input(\"Entre com um número: \")\n",
        "print(type(numero))\n",
        "numero = int(numero)\n",
        "print(type(numero))"
      ],
      "metadata": {
        "id": "iuljkHd6QjA5"
      }
    },
    {
      "cell_type": "markdown",
      "source": [
        "Neste código podemos verificar que primeiro a informação foi inserida como um texto quando precisamos utilizá-la, fizemos a conversão para um número inteiro.\n",
        "\n"
      ],
      "metadata": {
        "id": "uwG1rK0BQotI"
      }
    },
    {
      "cell_type": "markdown",
      "source": [
        "**Texto**"
      ],
      "metadata": {
        "id": "QPXgAZWaThs_"
      }
    },
    {
      "cell_type": "code",
      "source": [
        "# Declarar variável nome\n",
        "print(\"Digite seu nome: \")\n",
        "nome = input()\n",
        "# Imprimir na tela: \"Olá Fulano, tudo bem?\"\n",
        "print(\"Olá {}\" .format(nome))"
      ],
      "metadata": {
        "id": "Hef9cQhOTy-D"
      },
      "execution_count": null,
      "outputs": []
    },
    {
      "cell_type": "markdown",
      "source": [
        "**Número Inteiro**\n",
        "\n"
      ],
      "metadata": {
        "id": "wiLyWrN_TkbR"
      }
    },
    {
      "cell_type": "code",
      "source": [
        "# Declarar variável número\n",
        "\n",
        "\n",
        "# Imprimir na tela: \"O número digitado foi \"NÚMERO\"\""
      ],
      "metadata": {
        "id": "tcCErwxRTy74"
      },
      "execution_count": null,
      "outputs": []
    },
    {
      "cell_type": "markdown",
      "source": [
        "**Número Real**\n"
      ],
      "metadata": {
        "id": "4p5esUY4Tt4f"
      }
    },
    {
      "cell_type": "code",
      "source": [
        "# Declarar variável número\n",
        "\n",
        "# Imprimir na tela: \"O número digitado foi \"NÚMERO\"\""
      ],
      "metadata": {
        "id": "j9ovz15LT-m1"
      },
      "execution_count": null,
      "outputs": []
    },
    {
      "cell_type": "markdown",
      "source": [
        "##**4 - Operadores Aritméticos**\n",
        "\n",
        "São aqueles operadores matemáticos utilizados para fazer as contas mas, em Python, temos alguns especiais."
      ],
      "metadata": {
        "id": "577iQE4xUJ_l"
      }
    },
    {
      "cell_type": "markdown",
      "source": [
        "**Adição (+)**\n",
        "Use o campo abaixo para fazer um programa que realize a soma de dois números inteiros.\n",
        "\n",
        "✅**Usando os métodos input() e print()**"
      ],
      "metadata": {
        "id": "4jjtR-IqUPbm"
      }
    },
    {
      "cell_type": "code",
      "source": [
        "# Declarar a primeira variável:\n",
        "print(\"Digite um número:\")\n",
        "num1 = input()\n",
        "# Declarar a segunda variável:\n",
        "print(\"Digite outro número:\")\n",
        "num2 = input()\n",
        "# Fazer a soma da primeira variável com a segunda variável\n",
        "soma = int(num1) + int(num2)\n",
        "# Imprimir na tela\n",
        "print(\"{} + {} = {}\" .format(num1, num2, soma))"
      ],
      "metadata": {
        "id": "iAFsw-0tUSTX"
      },
      "execution_count": null,
      "outputs": []
    },
    {
      "cell_type": "markdown",
      "source": [
        "**Subtração (-)**\n",
        "Use o campo abaixo para fazer um programa que realize a subtração de dois números inteiros.\n",
        "\n",
        "✅**Usando os métodos input() e print()**"
      ],
      "metadata": {
        "id": "NJ4yj-t1UR5Q"
      }
    },
    {
      "cell_type": "code",
      "source": [
        "# Declarar a primeira variável:\n",
        "print(\"Digite um número:\")\n",
        "num1 = float(input())\n",
        "# Declarar a segunda variável:\n",
        "print(\"Digite outro número:\")\n",
        "num2 = float(input())\n",
        "# Fazer a subtração da primeira variável com a segunda variável\n",
        "subtracao = num1 - num2\n",
        "# Imprimir na tela\n",
        "print(\"{} - {} = {}\" .format(num1, num2, subtracao))"
      ],
      "metadata": {
        "id": "mxEOvP1XUWuJ"
      },
      "execution_count": null,
      "outputs": []
    },
    {
      "cell_type": "markdown",
      "source": [
        "**Multiplicação (*)**\n",
        "Use o campo abaixo para fazer um programa que realize a multiplicação de dois números inteiros.\n",
        "\n",
        "✅**Usando os métodos input() e print()**"
      ],
      "metadata": {
        "id": "Dw5dTaWHUYyY"
      }
    },
    {
      "cell_type": "code",
      "source": [
        "# Declarar a primeira variável:\n",
        "print(\"Digite um número:\")\n",
        "num1 = float(input())\n",
        "# Declarar a segunda variável:\n",
        "print(\"Digite outro número:\")\n",
        "num2 = float(input())\n",
        "# Fazer a multiplicação da primeira variável com a segunda variável\n",
        "mult = num1 * num2\n",
        "# Imprimir na tela\n",
        "print(\"{} * {} = {}\" .format(num1, num2, mult))\n"
      ],
      "metadata": {
        "id": "eojhEi-7Uah4"
      },
      "execution_count": null,
      "outputs": []
    },
    {
      "cell_type": "markdown",
      "source": [
        "**Divisão (/)**\n",
        "Use o campo abaixo para fazer um programa que realize a divisão de dois números inteiros.\n",
        "\n",
        "✅**Usando os métodos input() e print()**"
      ],
      "metadata": {
        "id": "QDYfhhcFUaXn"
      }
    },
    {
      "cell_type": "code",
      "source": [
        "# Declarar a primeira variável:\n",
        "print(\"Digite um número:\")\n",
        "num1 = float(input())\n",
        "# Declarar a segunda variável:\n",
        "print(\"Digite outro número:\")\n",
        "num2 = float(input())\n",
        "# Fazer a divisão da primeira variável com a segunda variável\n",
        "divisao = num1 / num2\n",
        "# Imprimir na tela\n",
        "print(\"{} / {} = {}\" .format(num1, num2, divisao))"
      ],
      "metadata": {
        "id": "TmEp17DdUep2"
      },
      "execution_count": null,
      "outputs": []
    },
    {
      "cell_type": "markdown",
      "source": [
        "**Módulo (%) -> resto de uma divisão**\n",
        "Use o campo abaixo para fazer um programa que mostre o resto da divisão de dois números inteiros.\n",
        "\n",
        "✅**Usando os métodos input() e print()**"
      ],
      "metadata": {
        "id": "YSyM7OEAUeQO"
      }
    },
    {
      "cell_type": "code",
      "source": [
        "mod = num1 % num2\n",
        "print(\"{} % {} = {}\" .format(num1, num2, mod))"
      ],
      "metadata": {
        "id": "q6q_p1BVUjV6"
      },
      "execution_count": null,
      "outputs": []
    },
    {
      "cell_type": "markdown",
      "source": [
        "**Exponenciação (* *)**\n",
        "Use o campo abaixo para fazer um programa que faça a exponenciação de dois números inteiros.\n",
        "\n",
        "✅**Usando os métodos input() e print()**"
      ],
      "metadata": {
        "id": "dlF-WttdUlCX"
      }
    },
    {
      "cell_type": "code",
      "source": [
        "\n",
        "exp = num1 ** num2\n",
        "print(\"{} ** {} = {}\" .format(num1, num2, exp))"
      ],
      "metadata": {
        "id": "7HqW3V20UnA2"
      },
      "execution_count": null,
      "outputs": []
    },
    {
      "cell_type": "markdown",
      "source": [
        "**Divisão Inteira (//)**\n",
        "Use o campo abaixo para fazer um programa que faça a divisão inteira de dois números inteiros.\n",
        "\n",
        "✅**Usando os métodos input() e print()**"
      ],
      "metadata": {
        "id": "jJ_U4-mHUpJI"
      }
    },
    {
      "cell_type": "code",
      "source": [
        "\n",
        "print(\"Digite um número:\")\n",
        "num1 = float(input())\n",
        "\n",
        "print(\"Digite outro número:\")\n",
        "num2 = float(input())\n",
        "\n",
        "div_inteira = num1 // num2\n",
        "\n",
        "print(\"{} // {} = {}\" .format(num1, num2, div_inteira))\n"
      ],
      "metadata": {
        "id": "t8yJ-V1BUq4_"
      },
      "execution_count": null,
      "outputs": []
    },
    {
      "cell_type": "markdown",
      "source": [
        "##**5 - Exercícios**\n",
        "\n",
        "Fazer programa que converta a velocidade de m/s para km/h. Dado: velocidade(m/s) = velocidade(km/h) * 3.6"
      ],
      "metadata": {
        "id": "UbFqkTmDUuum"
      }
    },
    {
      "cell_type": "code",
      "source": [
        "\n",
        "velocidade = 33\n",
        "\n",
        "conversao = float(velocidade) * float(3.6)\n",
        "\n",
        "print(\"{} * {} = {}\" .format(velocidade, 3.6, conversao))"
      ],
      "metadata": {
        "id": "i3HzRBJKUyGG"
      },
      "execution_count": null,
      "outputs": []
    },
    {
      "cell_type": "markdown",
      "source": [
        "Fazer um programa em que o usuário digita o raio de um circunferência e o programa imprime na tela o seu comprimento."
      ],
      "metadata": {
        "id": "bu2UYQDgUyPX"
      }
    },
    {
      "cell_type": "code",
      "source": [
        "\n",
        "from math import pi\n",
        "\n",
        "print(\"Digite o raio da circunferência\")\n",
        "r = float(input())\n",
        "pi = 3.14159265\n",
        "comprim = 2 * pi * r\n",
        "\n",
        "print(\"{} * {} * {} = {}\" .format(pi, r, 2, comprim))"
      ],
      "metadata": {
        "id": "3ygYVi5kU1p-"
      },
      "execution_count": null,
      "outputs": []
    },
    {
      "cell_type": "markdown",
      "source": [
        "Fazer um programa em que o usuário entra com um número e o programa imprime na tela seu antecessor e seu sucessor.\n"
      ],
      "metadata": {
        "id": "XwbExhynU37C"
      }
    },
    {
      "cell_type": "code",
      "source": [
        "\n",
        "print(\"Digite um número\")\n",
        "num = float(input())\n",
        "\n",
        "antecessor = num - 1\n",
        "\n",
        "sucessor = num + 1\n",
        "\n",
        "print('O antecessor de {} é {}' .format(num, antecessor))\n",
        "print('O sucessor de {} é {}' .format(num, sucessor))\n"
      ],
      "metadata": {
        "id": "bZSDpU8dU5rf"
      },
      "execution_count": null,
      "outputs": []
    },
    {
      "cell_type": "markdown",
      "source": [
        "Fazer um programa em que o usuário entra com o ano de seu nascimento e o programa imprime na tela sua idade."
      ],
      "metadata": {
        "id": "mY4pKcfaU7KR"
      }
    },
    {
      "cell_type": "code",
      "source": [
        "\n",
        "data_nasc = int(input(\"Digite o ano do seu nascimento: \"))\n",
        "\n",
        "ano_atual = 2023\n",
        "\n",
        "print(\"Sua idade é: \",idade)"
      ],
      "metadata": {
        "id": "mbyFMBjfU8yv"
      },
      "execution_count": null,
      "outputs": []
    }
  ]
}